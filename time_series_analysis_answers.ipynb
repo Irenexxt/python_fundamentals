{
 "cells": [
  {
   "cell_type": "code",
   "execution_count": 72,
   "metadata": {},
   "outputs": [],
   "source": [
    "import os\n",
    "import datetime\n",
    "\n",
    "# import boto\n",
    "\n",
    "import numpy as np\n",
    "import pandas as pd\n",
    "import matplotlib.pyplot as plt"
   ]
  },
  {
   "cell_type": "code",
   "execution_count": 2,
   "metadata": {},
   "outputs": [],
   "source": [
    "%matplotlib inline"
   ]
  },
  {
   "cell_type": "markdown",
   "metadata": {},
   "source": [
    "# 0. Get Data "
   ]
  },
  {
   "cell_type": "markdown",
   "metadata": {},
   "source": [
    "### Scope out data directory"
   ]
  },
  {
   "cell_type": "markdown",
   "metadata": {},
   "source": [
    "### TODO:\n",
    "- get stock data from _s3_ using `boto3`"
   ]
  },
  {
   "cell_type": "code",
   "execution_count": 3,
   "metadata": {},
   "outputs": [],
   "source": [
    "stock_csv_folder = \"../2016_fordham_python_seminar/stock_csvs/\""
   ]
  },
  {
   "cell_type": "code",
   "execution_count": 4,
   "metadata": {},
   "outputs": [],
   "source": [
    "stock_csv_names = sorted(os.listdir(stock_csv_folder))"
   ]
  },
  {
   "cell_type": "code",
   "execution_count": 5,
   "metadata": {
    "scrolled": true
   },
   "outputs": [
    {
     "data": {
      "text/plain": [
       "500"
      ]
     },
     "execution_count": 5,
     "metadata": {},
     "output_type": "execute_result"
    }
   ],
   "source": [
    "len(stock_csv_names)"
   ]
  },
  {
   "cell_type": "code",
   "execution_count": 6,
   "metadata": {},
   "outputs": [
    {
     "data": {
      "text/plain": [
       "['table_a.csv',\n",
       " 'table_aa.csv',\n",
       " 'table_aapl.csv',\n",
       " 'table_abbv.csv',\n",
       " 'table_abc.csv']"
      ]
     },
     "execution_count": 6,
     "metadata": {},
     "output_type": "execute_result"
    }
   ],
   "source": [
    "stock_csv_names[:5]"
   ]
  },
  {
   "cell_type": "code",
   "execution_count": 7,
   "metadata": {},
   "outputs": [],
   "source": [
    "# cols = open(\"_data_dir.txt\").readlines()"
   ]
  },
  {
   "cell_type": "code",
   "execution_count": 8,
   "metadata": {},
   "outputs": [],
   "source": [
    "cols = ['date', 'time', 'open', 'high', 'low_price', 'close', 'volume']"
   ]
  },
  {
   "cell_type": "markdown",
   "metadata": {},
   "source": [
    "### Look at sample of data"
   ]
  },
  {
   "cell_type": "code",
   "execution_count": 9,
   "metadata": {},
   "outputs": [],
   "source": [
    "a_df = pd.read_csv(os.path.join(stock_csv_folder, stock_csv_names[0]),\n",
    "                   names=cols)"
   ]
  },
  {
   "cell_type": "code",
   "execution_count": 10,
   "metadata": {},
   "outputs": [
    {
     "data": {
      "text/plain": [
       "(3452, 7)"
      ]
     },
     "execution_count": 10,
     "metadata": {},
     "output_type": "execute_result"
    }
   ],
   "source": [
    "a_df.shape"
   ]
  },
  {
   "cell_type": "code",
   "execution_count": 11,
   "metadata": {},
   "outputs": [
    {
     "data": {
      "text/html": [
       "<div>\n",
       "<style scoped>\n",
       "    .dataframe tbody tr th:only-of-type {\n",
       "        vertical-align: middle;\n",
       "    }\n",
       "\n",
       "    .dataframe tbody tr th {\n",
       "        vertical-align: top;\n",
       "    }\n",
       "\n",
       "    .dataframe thead th {\n",
       "        text-align: right;\n",
       "    }\n",
       "</style>\n",
       "<table border=\"1\" class=\"dataframe\">\n",
       "  <thead>\n",
       "    <tr style=\"text-align: right;\">\n",
       "      <th></th>\n",
       "      <th>date</th>\n",
       "      <th>time</th>\n",
       "      <th>open</th>\n",
       "      <th>high</th>\n",
       "      <th>low_price</th>\n",
       "      <th>close</th>\n",
       "      <th>volume</th>\n",
       "    </tr>\n",
       "  </thead>\n",
       "  <tbody>\n",
       "    <tr>\n",
       "      <th>0</th>\n",
       "      <td>19991118</td>\n",
       "      <td>0</td>\n",
       "      <td>42.2076</td>\n",
       "      <td>46.3820</td>\n",
       "      <td>37.4581</td>\n",
       "      <td>39.1928</td>\n",
       "      <td>4.398181e+07</td>\n",
       "    </tr>\n",
       "    <tr>\n",
       "      <th>1</th>\n",
       "      <td>19991119</td>\n",
       "      <td>0</td>\n",
       "      <td>39.8329</td>\n",
       "      <td>39.8885</td>\n",
       "      <td>36.9293</td>\n",
       "      <td>37.6251</td>\n",
       "      <td>1.139020e+07</td>\n",
       "    </tr>\n",
       "    <tr>\n",
       "      <th>2</th>\n",
       "      <td>19991122</td>\n",
       "      <td>0</td>\n",
       "      <td>38.3208</td>\n",
       "      <td>40.0091</td>\n",
       "      <td>37.1613</td>\n",
       "      <td>39.9442</td>\n",
       "      <td>4.654716e+06</td>\n",
       "    </tr>\n",
       "    <tr>\n",
       "      <th>3</th>\n",
       "      <td>19991123</td>\n",
       "      <td>0</td>\n",
       "      <td>39.4247</td>\n",
       "      <td>40.4729</td>\n",
       "      <td>37.3375</td>\n",
       "      <td>37.5138</td>\n",
       "      <td>4.268903e+06</td>\n",
       "    </tr>\n",
       "    <tr>\n",
       "      <th>4</th>\n",
       "      <td>19991124</td>\n",
       "      <td>0</td>\n",
       "      <td>37.2262</td>\n",
       "      <td>38.9052</td>\n",
       "      <td>37.1056</td>\n",
       "      <td>38.0889</td>\n",
       "      <td>3.602367e+06</td>\n",
       "    </tr>\n",
       "  </tbody>\n",
       "</table>\n",
       "</div>"
      ],
      "text/plain": [
       "       date  time     open     high  low_price    close        volume\n",
       "0  19991118     0  42.2076  46.3820    37.4581  39.1928  4.398181e+07\n",
       "1  19991119     0  39.8329  39.8885    36.9293  37.6251  1.139020e+07\n",
       "2  19991122     0  38.3208  40.0091    37.1613  39.9442  4.654716e+06\n",
       "3  19991123     0  39.4247  40.4729    37.3375  37.5138  4.268903e+06\n",
       "4  19991124     0  37.2262  38.9052    37.1056  38.0889  3.602367e+06"
      ]
     },
     "execution_count": 11,
     "metadata": {},
     "output_type": "execute_result"
    }
   ],
   "source": [
    "a_df.head()"
   ]
  },
  {
   "cell_type": "code",
   "execution_count": 12,
   "metadata": {},
   "outputs": [
    {
     "data": {
      "text/plain": [
       "date           int64\n",
       "time           int64\n",
       "open         float64\n",
       "high         float64\n",
       "low_price    float64\n",
       "close        float64\n",
       "volume       float64\n",
       "dtype: object"
      ]
     },
     "execution_count": 12,
     "metadata": {},
     "output_type": "execute_result"
    }
   ],
   "source": [
    "a_df.dtypes"
   ]
  },
  {
   "cell_type": "markdown",
   "metadata": {},
   "source": [
    "We see that most of the typing here looks good (no `object` / `string` representations of numeric data) but we do see that `date` is coming in as an `int` rather than a `datetime`. Why is this important? Because, as we will see later, we want our `date` column's values to look, act, and feel like _dates_, as opposed to _integers_ - after all, isn't time series data just data that's _indexed on time_?\n",
    "\n",
    "Also, we see that the `time` column has a value of `0` in the top five rows, and we know that this is _daily_ data - is `time` relevant?\n",
    "\n",
    "Before we get in to handling these issues, let's continue with our basic data quality checks."
   ]
  },
  {
   "cell_type": "code",
   "execution_count": 13,
   "metadata": {},
   "outputs": [
    {
     "data": {
      "text/plain": [
       "date         0\n",
       "time         0\n",
       "open         0\n",
       "high         0\n",
       "low_price    0\n",
       "close        0\n",
       "volume       0\n",
       "dtype: int64"
      ]
     },
     "execution_count": 13,
     "metadata": {},
     "output_type": "execute_result"
    }
   ],
   "source": [
    "a_df.isnull().sum()"
   ]
  },
  {
   "cell_type": "code",
   "execution_count": 14,
   "metadata": {},
   "outputs": [
    {
     "data": {
      "text/plain": [
       "0"
      ]
     },
     "execution_count": 14,
     "metadata": {},
     "output_type": "execute_result"
    }
   ],
   "source": [
    "a_df.duplicated().sum()"
   ]
  },
  {
   "cell_type": "markdown",
   "metadata": {},
   "source": [
    "Great! No missing data, and no duplicate data."
   ]
  },
  {
   "cell_type": "code",
   "execution_count": 15,
   "metadata": {},
   "outputs": [
    {
     "data": {
      "text/plain": [
       "0    19991118\n",
       "1    19991119\n",
       "2    19991122\n",
       "3    19991123\n",
       "4    19991124\n",
       "Name: date, dtype: object"
      ]
     },
     "execution_count": 15,
     "metadata": {},
     "output_type": "execute_result"
    }
   ],
   "source": [
    "a_df.date.astype(str).head()"
   ]
  },
  {
   "cell_type": "markdown",
   "metadata": {},
   "source": [
    "Now, let's handle `date`:"
   ]
  },
  {
   "cell_type": "code",
   "execution_count": 16,
   "metadata": {},
   "outputs": [],
   "source": [
    "a_df.date = pd.to_datetime(a_df.date.astype(str), infer_datetime_format=True)"
   ]
  },
  {
   "cell_type": "code",
   "execution_count": 17,
   "metadata": {},
   "outputs": [
    {
     "data": {
      "text/plain": [
       "0   1999-11-18\n",
       "1   1999-11-19\n",
       "2   1999-11-22\n",
       "3   1999-11-23\n",
       "4   1999-11-24\n",
       "Name: date, dtype: datetime64[ns]"
      ]
     },
     "execution_count": 17,
     "metadata": {},
     "output_type": "execute_result"
    }
   ],
   "source": [
    "a_df.date.head()"
   ]
  },
  {
   "cell_type": "markdown",
   "metadata": {},
   "source": [
    "Let's check that this is a _proper_ time-series data set, i.e. we have one date for every row:"
   ]
  },
  {
   "cell_type": "code",
   "execution_count": 18,
   "metadata": {},
   "outputs": [
    {
     "data": {
      "text/plain": [
       "1.0"
      ]
     },
     "execution_count": 18,
     "metadata": {},
     "output_type": "execute_result"
    }
   ],
   "source": [
    "a_df.date.nunique() / len(a_df)"
   ]
  },
  {
   "cell_type": "markdown",
   "metadata": {},
   "source": [
    "Great - we can now set this as our index, which will make many analytical techniques (plotting and joining, for example) easier:"
   ]
  },
  {
   "cell_type": "code",
   "execution_count": 19,
   "metadata": {},
   "outputs": [],
   "source": [
    "a_df = a_df.set_index(\"date\")"
   ]
  },
  {
   "cell_type": "markdown",
   "metadata": {},
   "source": [
    "And, `time`:"
   ]
  },
  {
   "cell_type": "code",
   "execution_count": 20,
   "metadata": {},
   "outputs": [
    {
     "data": {
      "text/plain": [
       "1"
      ]
     },
     "execution_count": 20,
     "metadata": {},
     "output_type": "execute_result"
    }
   ],
   "source": [
    "a_df.time.nunique()"
   ]
  },
  {
   "cell_type": "code",
   "execution_count": 21,
   "metadata": {},
   "outputs": [],
   "source": [
    "a_df = a_df.drop(\"time\", axis=1)"
   ]
  },
  {
   "cell_type": "markdown",
   "metadata": {},
   "source": [
    "### Problem\n",
    "\n",
    "Get an _iterable_ of `DataFrames`, one for each stock in our dataset, with the wrangling we did above included."
   ]
  },
  {
   "cell_type": "code",
   "execution_count": 22,
   "metadata": {},
   "outputs": [],
   "source": [
    "def get_csv_path(csv_name, stock_csv_folder=stock_csv_folder):\n",
    "    return os.path.join(stock_csv_folder, csv_name)"
   ]
  },
  {
   "cell_type": "code",
   "execution_count": 23,
   "metadata": {},
   "outputs": [],
   "source": [
    "def get_df(csv_name, cols=cols):\n",
    "    df = pd.read_csv(get_csv_path(csv_name),\n",
    "                     names=cols,\n",
    "                     usecols=list(filter(lambda c: c!= \"time\", cols)))\n",
    "    \n",
    "    df.date = pd.to_datetime(df.date.astype(str), infer_datetime_format=True)\n",
    "\n",
    "    return df.set_index(\"date\", drop=False)"
   ]
  },
  {
   "cell_type": "code",
   "execution_count": 24,
   "metadata": {},
   "outputs": [],
   "source": [
    "dfs_iter = (\n",
    "    get_df(csv_name\n",
    "    ) for csv_name in stock_csv_names\n",
    ")"
   ]
  },
  {
   "cell_type": "code",
   "execution_count": 25,
   "metadata": {},
   "outputs": [],
   "source": [
    "dfs_list = list(dfs_iter)"
   ]
  },
  {
   "cell_type": "markdown",
   "metadata": {},
   "source": [
    "# 1. Analysis: `AAPL`"
   ]
  },
  {
   "cell_type": "markdown",
   "metadata": {},
   "source": [
    "### Initial look"
   ]
  },
  {
   "cell_type": "code",
   "execution_count": 26,
   "metadata": {
    "scrolled": true
   },
   "outputs": [],
   "source": [
    "aapl_df = get_df(\"table_aapl.csv\")"
   ]
  },
  {
   "cell_type": "code",
   "execution_count": 27,
   "metadata": {},
   "outputs": [
    {
     "data": {
      "text/plain": [
       "(3926, 6)"
      ]
     },
     "execution_count": 27,
     "metadata": {},
     "output_type": "execute_result"
    }
   ],
   "source": [
    "aapl_df.shape"
   ]
  },
  {
   "cell_type": "markdown",
   "metadata": {},
   "source": [
    "**Note**: we have more rows for `aapl` data than we do for `a`."
   ]
  },
  {
   "cell_type": "code",
   "execution_count": 28,
   "metadata": {},
   "outputs": [
    {
     "data": {
      "text/plain": [
       "0.0   1998-01-02\n",
       "1.0   2013-08-09\n",
       "Name: date, dtype: datetime64[ns]"
      ]
     },
     "execution_count": 28,
     "metadata": {},
     "output_type": "execute_result"
    }
   ],
   "source": [
    "pd.Series(aapl_df.index).quantile([0, 1])"
   ]
  },
  {
   "cell_type": "code",
   "execution_count": 29,
   "metadata": {},
   "outputs": [
    {
     "data": {
      "text/plain": [
       "0.0   1999-11-18\n",
       "1.0   2013-08-09\n",
       "Name: date, dtype: datetime64[ns]"
      ]
     },
     "execution_count": 29,
     "metadata": {},
     "output_type": "execute_result"
    }
   ],
   "source": [
    "pd.Series(a_df.index).quantile([0, 1])"
   ]
  },
  {
   "cell_type": "markdown",
   "metadata": {},
   "source": [
    "As expected, both `DataFrames` have same end date, but `aapl`'s data starts earlier."
   ]
  },
  {
   "cell_type": "code",
   "execution_count": 30,
   "metadata": {},
   "outputs": [
    {
     "data": {
      "text/plain": [
       "date         0\n",
       "open         0\n",
       "high         0\n",
       "low_price    0\n",
       "close        0\n",
       "volume       0\n",
       "dtype: int64"
      ]
     },
     "execution_count": 30,
     "metadata": {},
     "output_type": "execute_result"
    }
   ],
   "source": [
    "aapl_df.isnull().sum()"
   ]
  },
  {
   "cell_type": "code",
   "execution_count": 31,
   "metadata": {},
   "outputs": [
    {
     "data": {
      "text/plain": [
       "0"
      ]
     },
     "execution_count": 31,
     "metadata": {},
     "output_type": "execute_result"
    }
   ],
   "source": [
    "aapl_df.duplicated().sum()"
   ]
  },
  {
   "cell_type": "markdown",
   "metadata": {},
   "source": [
    "Let's take a look at the `aapl` data:"
   ]
  },
  {
   "cell_type": "code",
   "execution_count": 32,
   "metadata": {
    "scrolled": false
   },
   "outputs": [
    {
     "data": {
      "image/png": "[encoded data removed]",
      "text/plain": [
       "<Figure size 792x576 with 1 Axes>"
      ]
     },
     "metadata": {
      "needs_background": "light"
     },
     "output_type": "display_data"
    }
   ],
   "source": [
    "ax = aapl_df.close.plot(figsize=(11, 8))\n",
    "t = ax.set_title(\"aapl: closing price\")"
   ]
  },
  {
   "cell_type": "markdown",
   "metadata": {},
   "source": [
    "A couple of observations on the above graph:\n",
    "- the stock's price has increased over time\n",
    "- there is a good bit of variability in between the start and end points\n",
    "- it would have been nice to buy `AAPL` back in the 90s!\n",
    "\n",
    "How can we get a more insight into how this stock's price is changing?"
   ]
  },
  {
   "cell_type": "markdown",
   "metadata": {},
   "source": [
    "### Returns"
   ]
  },
  {
   "cell_type": "code",
   "execution_count": 33,
   "metadata": {},
   "outputs": [],
   "source": [
    "aapl_df[\"return_gross\"] = aapl_df.close.divide(aapl_df.close.shift(1))"
   ]
  },
  {
   "cell_type": "code",
   "execution_count": 34,
   "metadata": {},
   "outputs": [],
   "source": [
    "aapl_df[\"return_simple\"] = aapl_df.return_gross - 1"
   ]
  },
  {
   "cell_type": "code",
   "execution_count": 35,
   "metadata": {
    "scrolled": false
   },
   "outputs": [
    {
     "data": {
      "text/plain": [
       "count    3925.000000\n",
       "mean        0.001672\n",
       "std         0.029774\n",
       "min        -0.518150\n",
       "25%        -0.013670\n",
       "50%         0.000859\n",
       "75%         0.016312\n",
       "max         0.183749\n",
       "Name: return_simple, dtype: float64"
      ]
     },
     "execution_count": 35,
     "metadata": {},
     "output_type": "execute_result"
    }
   ],
   "source": [
    "aapl_df.return_simple.describe()"
   ]
  },
  {
   "cell_type": "code",
   "execution_count": 36,
   "metadata": {
    "scrolled": false
   },
   "outputs": [
    {
     "data": {
      "image/png": "[encoded data removed]",
      "text/plain": [
       "<Figure size 792x576 with 1 Axes>"
      ]
     },
     "metadata": {
      "needs_background": "light"
     },
     "output_type": "display_data"
    }
   ],
   "source": [
    "ax = aapl_df.return_simple.hist(figsize=(11, 8), bins=100)\n",
    "\n",
    "t = ax.set_title(\"aapl: simple daily return\")"
   ]
  },
  {
   "cell_type": "markdown",
   "metadata": {},
   "source": [
    "Note the long tail stretching out to the left - this data is _negatively skewed_."
   ]
  },
  {
   "cell_type": "code",
   "execution_count": 37,
   "metadata": {
    "scrolled": false
   },
   "outputs": [
    {
     "data": {
      "image/png": "[encoded data removed]",
      "text/plain": [
       "<Figure size 792x576 with 1 Axes>"
      ]
     },
     "metadata": {
      "needs_background": "light"
     },
     "output_type": "display_data"
    }
   ],
   "source": [
    "ax = aapl_df.return_simple.plot(figsize=(11, 8))\n",
    "t = ax.set_title(\"aapl: simple daily return\")"
   ]
  },
  {
   "cell_type": "markdown",
   "metadata": {},
   "source": [
    "There's _a lot_ of fluctuation going on here - can we reduce this?"
   ]
  },
  {
   "cell_type": "code",
   "execution_count": 38,
   "metadata": {},
   "outputs": [],
   "source": [
    "aapl_df[\"return_gross_30_mean\"] = aapl_df.return_gross.rolling(30).mean()"
   ]
  },
  {
   "cell_type": "code",
   "execution_count": 39,
   "metadata": {
    "scrolled": false
   },
   "outputs": [
    {
     "data": {
      "image/png": "[encoded data removed]",
      "text/plain": [
       "<Figure size 792x576 with 1 Axes>"
      ]
     },
     "metadata": {
      "needs_background": "light"
     },
     "output_type": "display_data"
    }
   ],
   "source": [
    "ax = aapl_df.return_gross_30_mean.plot(figsize=(11, 8))\n",
    "t = ax.set_title(\"aapl: gross daily return, rolling 30 mean\")"
   ]
  },
  {
   "cell_type": "code",
   "execution_count": 40,
   "metadata": {},
   "outputs": [],
   "source": [
    "aapl_df[\"return_gross_90_mean\"] = aapl_df.return_gross.rolling(90).mean()"
   ]
  },
  {
   "cell_type": "code",
   "execution_count": 41,
   "metadata": {
    "scrolled": false
   },
   "outputs": [
    {
     "data": {
      "image/png": "[encoded data removed]",
      "text/plain": [
       "<Figure size 792x576 with 1 Axes>"
      ]
     },
     "metadata": {
      "needs_background": "light"
     },
     "output_type": "display_data"
    }
   ],
   "source": [
    "ax = aapl_df.return_gross_90_mean.plot(figsize=(11, 8))\n",
    "t = ax.set_title(\"aapl: gross daily return, rolling 90 mean\")"
   ]
  },
  {
   "cell_type": "markdown",
   "metadata": {},
   "source": [
    "Interesting - our _daily returns_ look to be decreasing over time.\n",
    "\n",
    "How about volatility?"
   ]
  },
  {
   "cell_type": "code",
   "execution_count": 42,
   "metadata": {},
   "outputs": [],
   "source": [
    "aapl_df[\"return_simple_90_std\"] = aapl_df.return_simple.rolling(90).std()"
   ]
  },
  {
   "cell_type": "code",
   "execution_count": 44,
   "metadata": {
    "scrolled": false
   },
   "outputs": [
    {
     "data": {
      "image/png": "[encoded data removed]",
      "text/plain": [
       "<Figure size 792x576 with 1 Axes>"
      ]
     },
     "metadata": {
      "needs_background": "light"
     },
     "output_type": "display_data"
    }
   ],
   "source": [
    "ax = aapl_df.return_simple_90_std.plot(figsize=(11, 8))\n",
    "t = ax.set_title(\"aapl: simple daily return, rolling 90 std\")"
   ]
  },
  {
   "cell_type": "markdown",
   "metadata": {},
   "source": [
    "### Problem\n",
    "\n",
    "Perform a similar analysis to what we did with `aapl.simple_returns` but do this using _volume-weighted_ returns. Describe your findings - do the results look similar?"
   ]
  },
  {
   "cell_type": "code",
   "execution_count": null,
   "metadata": {},
   "outputs": [],
   "source": []
  },
  {
   "cell_type": "markdown",
   "metadata": {},
   "source": [
    "### Average daily returns, by month\n",
    "\n",
    "Does `AAPL` post better daily performance in certain months?"
   ]
  },
  {
   "cell_type": "code",
   "execution_count": 45,
   "metadata": {},
   "outputs": [],
   "source": [
    "aapl_df[\"month\"] = aapl_df.date.apply(lambda d: d.month)"
   ]
  },
  {
   "cell_type": "code",
   "execution_count": 46,
   "metadata": {},
   "outputs": [],
   "source": [
    "daily_by_month = aapl_df[[\"month\", \"return_simple\"]\n",
    "                         ].groupby(\"month\"\n",
    "                         ).agg([np.mean, np.std])"
   ]
  },
  {
   "cell_type": "code",
   "execution_count": 47,
   "metadata": {},
   "outputs": [
    {
     "data": {
      "text/html": [
       "<div>\n",
       "<style scoped>\n",
       "    .dataframe tbody tr th:only-of-type {\n",
       "        vertical-align: middle;\n",
       "    }\n",
       "\n",
       "    .dataframe tbody tr th {\n",
       "        vertical-align: top;\n",
       "    }\n",
       "\n",
       "    .dataframe thead tr th {\n",
       "        text-align: left;\n",
       "    }\n",
       "\n",
       "    .dataframe thead tr:last-of-type th {\n",
       "        text-align: right;\n",
       "    }\n",
       "</style>\n",
       "<table border=\"1\" class=\"dataframe\">\n",
       "  <thead>\n",
       "    <tr>\n",
       "      <th></th>\n",
       "      <th colspan=\"2\" halign=\"left\">return_simple</th>\n",
       "    </tr>\n",
       "    <tr>\n",
       "      <th></th>\n",
       "      <th>mean</th>\n",
       "      <th>std</th>\n",
       "    </tr>\n",
       "    <tr>\n",
       "      <th>month</th>\n",
       "      <th></th>\n",
       "      <th></th>\n",
       "    </tr>\n",
       "  </thead>\n",
       "  <tbody>\n",
       "    <tr>\n",
       "      <th>1</th>\n",
       "      <td>0.002190</td>\n",
       "      <td>0.034613</td>\n",
       "    </tr>\n",
       "    <tr>\n",
       "      <th>2</th>\n",
       "      <td>0.001037</td>\n",
       "      <td>0.025793</td>\n",
       "    </tr>\n",
       "    <tr>\n",
       "      <th>3</th>\n",
       "      <td>0.003630</td>\n",
       "      <td>0.027720</td>\n",
       "    </tr>\n",
       "    <tr>\n",
       "      <th>4</th>\n",
       "      <td>0.002755</td>\n",
       "      <td>0.030354</td>\n",
       "    </tr>\n",
       "    <tr>\n",
       "      <th>5</th>\n",
       "      <td>-0.000095</td>\n",
       "      <td>0.025757</td>\n",
       "    </tr>\n",
       "    <tr>\n",
       "      <th>6</th>\n",
       "      <td>0.000647</td>\n",
       "      <td>0.024897</td>\n",
       "    </tr>\n",
       "    <tr>\n",
       "      <th>7</th>\n",
       "      <td>0.003089</td>\n",
       "      <td>0.030554</td>\n",
       "    </tr>\n",
       "    <tr>\n",
       "      <th>8</th>\n",
       "      <td>0.001921</td>\n",
       "      <td>0.023400</td>\n",
       "    </tr>\n",
       "    <tr>\n",
       "      <th>9</th>\n",
       "      <td>-0.000956</td>\n",
       "      <td>0.042424</td>\n",
       "    </tr>\n",
       "    <tr>\n",
       "      <th>10</th>\n",
       "      <td>0.003242</td>\n",
       "      <td>0.033829</td>\n",
       "    </tr>\n",
       "    <tr>\n",
       "      <th>11</th>\n",
       "      <td>0.001369</td>\n",
       "      <td>0.028624</td>\n",
       "    </tr>\n",
       "    <tr>\n",
       "      <th>12</th>\n",
       "      <td>0.000834</td>\n",
       "      <td>0.025551</td>\n",
       "    </tr>\n",
       "  </tbody>\n",
       "</table>\n",
       "</div>"
      ],
      "text/plain": [
       "      return_simple          \n",
       "               mean       std\n",
       "month                        \n",
       "1          0.002190  0.034613\n",
       "2          0.001037  0.025793\n",
       "3          0.003630  0.027720\n",
       "4          0.002755  0.030354\n",
       "5         -0.000095  0.025757\n",
       "6          0.000647  0.024897\n",
       "7          0.003089  0.030554\n",
       "8          0.001921  0.023400\n",
       "9         -0.000956  0.042424\n",
       "10         0.003242  0.033829\n",
       "11         0.001369  0.028624\n",
       "12         0.000834  0.025551"
      ]
     },
     "execution_count": 47,
     "metadata": {},
     "output_type": "execute_result"
    }
   ],
   "source": [
    "daily_by_month"
   ]
  },
  {
   "cell_type": "code",
   "execution_count": 48,
   "metadata": {},
   "outputs": [],
   "source": [
    "daily_by_month.columns = daily_by_month.columns.droplevel()"
   ]
  },
  {
   "cell_type": "code",
   "execution_count": 49,
   "metadata": {},
   "outputs": [
    {
     "data": {
      "image/png": "[encoded data removed]",
      "text/plain": [
       "<Figure size 792x792 with 1 Axes>"
      ]
     },
     "metadata": {
      "needs_background": "light"
     },
     "output_type": "display_data"
    }
   ],
   "source": [
    "ax = daily_by_month.plot.barh(figsize=(11, 11))\n",
    "\n",
    "t = ax.set_title(\"aapl: average simple daily return, by month\")"
   ]
  },
  {
   "cell_type": "markdown",
   "metadata": {},
   "source": [
    "So, we see that, on average, `AAPL` has seen negative daily returns (with higher-than-average volatility) in September - earnings?"
   ]
  },
  {
   "cell_type": "markdown",
   "metadata": {},
   "source": [
    "### Problem\n",
    "\n",
    "Perform a similar analysis to above, but instead of calculating the average (and volatility around) _daily_ returns, broken out by month, get the average (and volatility around) _monthly_ returns."
   ]
  },
  {
   "cell_type": "code",
   "execution_count": null,
   "metadata": {},
   "outputs": [],
   "source": []
  },
  {
   "cell_type": "markdown",
   "metadata": {},
   "source": [
    "### Digging deeper into September earnings"
   ]
  },
  {
   "cell_type": "code",
   "execution_count": 63,
   "metadata": {},
   "outputs": [],
   "source": [
    "aapl_df[\"year\"] = aapl_df.date.apply(lambda d: d.year)"
   ]
  },
  {
   "cell_type": "code",
   "execution_count": 64,
   "metadata": {},
   "outputs": [],
   "source": [
    "aapl_sept = aapl_df[aapl_df.month == 9]"
   ]
  },
  {
   "cell_type": "code",
   "execution_count": 65,
   "metadata": {},
   "outputs": [
    {
     "data": {
      "text/plain": [
       "(302, 13)"
      ]
     },
     "execution_count": 65,
     "metadata": {},
     "output_type": "execute_result"
    }
   ],
   "source": [
    "aapl_sept.shape"
   ]
  },
  {
   "cell_type": "code",
   "execution_count": 81,
   "metadata": {},
   "outputs": [],
   "source": [
    "sept_returns_by_year = aapl_sept[[\"year\", \"return_gross\"]].groupby(\"year\").apply(np.cumproduct)"
   ]
  },
  {
   "cell_type": "code",
   "execution_count": 82,
   "metadata": {},
   "outputs": [
    {
     "data": {
      "text/html": [
       "<div>\n",
       "<style scoped>\n",
       "    .dataframe tbody tr th:only-of-type {\n",
       "        vertical-align: middle;\n",
       "    }\n",
       "\n",
       "    .dataframe tbody tr th {\n",
       "        vertical-align: top;\n",
       "    }\n",
       "\n",
       "    .dataframe thead th {\n",
       "        text-align: right;\n",
       "    }\n",
       "</style>\n",
       "<table border=\"1\" class=\"dataframe\">\n",
       "  <thead>\n",
       "    <tr style=\"text-align: right;\">\n",
       "      <th></th>\n",
       "      <th>year</th>\n",
       "      <th>return_gross</th>\n",
       "    </tr>\n",
       "    <tr>\n",
       "      <th>date</th>\n",
       "      <th></th>\n",
       "      <th></th>\n",
       "    </tr>\n",
       "  </thead>\n",
       "  <tbody>\n",
       "    <tr>\n",
       "      <th>1998-09-29</th>\n",
       "      <td>1.027803e+66</td>\n",
       "      <td>1.266431</td>\n",
       "    </tr>\n",
       "    <tr>\n",
       "      <th>1998-09-28</th>\n",
       "      <td>5.144157e+62</td>\n",
       "      <td>1.252324</td>\n",
       "    </tr>\n",
       "    <tr>\n",
       "      <th>1998-09-25</th>\n",
       "      <td>2.574653e+59</td>\n",
       "      <td>1.242385</td>\n",
       "    </tr>\n",
       "    <tr>\n",
       "      <th>1998-09-24</th>\n",
       "      <td>1.288615e+56</td>\n",
       "      <td>1.234369</td>\n",
       "    </tr>\n",
       "    <tr>\n",
       "      <th>1998-09-08</th>\n",
       "      <td>3.184032e+16</td>\n",
       "      <td>1.224431</td>\n",
       "    </tr>\n",
       "  </tbody>\n",
       "</table>\n",
       "</div>"
      ],
      "text/plain": [
       "                    year  return_gross\n",
       "date                                  \n",
       "1998-09-29  1.027803e+66      1.266431\n",
       "1998-09-28  5.144157e+62      1.252324\n",
       "1998-09-25  2.574653e+59      1.242385\n",
       "1998-09-24  1.288615e+56      1.234369\n",
       "1998-09-08  3.184032e+16      1.224431"
      ]
     },
     "execution_count": 82,
     "metadata": {},
     "output_type": "execute_result"
    }
   ],
   "source": [
    "sept_returns_by_year.sort_values(\"return_gross\", ascending=False).iloc[:5]"
   ]
  },
  {
   "cell_type": "code",
   "execution_count": 83,
   "metadata": {},
   "outputs": [
    {
     "data": {
      "text/html": [
       "<div>\n",
       "<style scoped>\n",
       "    .dataframe tbody tr th:only-of-type {\n",
       "        vertical-align: middle;\n",
       "    }\n",
       "\n",
       "    .dataframe tbody tr th {\n",
       "        vertical-align: top;\n",
       "    }\n",
       "\n",
       "    .dataframe thead th {\n",
       "        text-align: right;\n",
       "    }\n",
       "</style>\n",
       "<table border=\"1\" class=\"dataframe\">\n",
       "  <thead>\n",
       "    <tr style=\"text-align: right;\">\n",
       "      <th></th>\n",
       "      <th>year</th>\n",
       "      <th>return_gross</th>\n",
       "    </tr>\n",
       "    <tr>\n",
       "      <th>date</th>\n",
       "      <th></th>\n",
       "      <th></th>\n",
       "    </tr>\n",
       "  </thead>\n",
       "  <tbody>\n",
       "    <tr>\n",
       "      <th>2000-09-29</th>\n",
       "      <td>1.048576e+66</td>\n",
       "      <td>0.422547</td>\n",
       "    </tr>\n",
       "    <tr>\n",
       "      <th>2008-09-29</th>\n",
       "      <td>1.135728e+66</td>\n",
       "      <td>0.625532</td>\n",
       "    </tr>\n",
       "    <tr>\n",
       "      <th>2008-09-30</th>\n",
       "      <td>2.280541e+69</td>\n",
       "      <td>0.669131</td>\n",
       "    </tr>\n",
       "    <tr>\n",
       "      <th>2008-09-23</th>\n",
       "      <td>6.985851e+52</td>\n",
       "      <td>0.749172</td>\n",
       "    </tr>\n",
       "    <tr>\n",
       "      <th>2008-09-24</th>\n",
       "      <td>1.402759e+56</td>\n",
       "      <td>0.757142</td>\n",
       "    </tr>\n",
       "  </tbody>\n",
       "</table>\n",
       "</div>"
      ],
      "text/plain": [
       "                    year  return_gross\n",
       "date                                  \n",
       "2000-09-29  1.048576e+66      0.422547\n",
       "2008-09-29  1.135728e+66      0.625532\n",
       "2008-09-30  2.280541e+69      0.669131\n",
       "2008-09-23  6.985851e+52      0.749172\n",
       "2008-09-24  1.402759e+56      0.757142"
      ]
     },
     "execution_count": 83,
     "metadata": {},
     "output_type": "execute_result"
    }
   ],
   "source": [
    "sept_returns_by_year.sort_values(\"return_gross\").iloc[:5]"
   ]
  },
  {
   "cell_type": "markdown",
   "metadata": {},
   "source": [
    "### Problem\n",
    "\n",
    "Perform a similar, September analysis, on `MSFT`. Next, plot both `AAPL` and `MSFT` results on the same plot. \n",
    "\n",
    "Hint: you may find success through combining the results into a single `DataFrame` prior to plotting. You may also be able to make use of the `ax` we've been returning, through passing them into the next plot (the variable is aptly named...)"
   ]
  },
  {
   "cell_type": "markdown",
   "metadata": {},
   "source": [
    "# Multi-Stock Analysis"
   ]
  },
  {
   "cell_type": "markdown",
   "metadata": {},
   "source": [
    "### How can we combine all of our stocks into one `DataFrame`?"
   ]
  },
  {
   "cell_type": "code",
   "execution_count": 29,
   "metadata": {
    "scrolled": true
   },
   "outputs": [],
   "source": [
    "# all_stocks = dfs_list[0].join(dfs_list[1:])"
   ]
  },
  {
   "cell_type": "code",
   "execution_count": 89,
   "metadata": {},
   "outputs": [],
   "source": [
    "def get_stock_name(csv_name):\n",
    "    file_name = csv_name.split(\".\")[0]\n",
    "    return file_name.split(\"_\")[1]"
   ]
  },
  {
   "cell_type": "code",
   "execution_count": 90,
   "metadata": {},
   "outputs": [],
   "source": [
    "dfs_list_indexed = [pd.concat({get_stock_name(csv_name): dfs_list[i]}, axis=1)\n",
    "                    for i, csv_name in enumerate(stock_csv_names)]"
   ]
  },
  {
   "cell_type": "code",
   "execution_count": 91,
   "metadata": {},
   "outputs": [],
   "source": [
    "all_stocks = dfs_list_indexed[0].join(dfs_list_indexed[1:])"
   ]
  },
  {
   "cell_type": "code",
   "execution_count": 92,
   "metadata": {},
   "outputs": [
    {
     "data": {
      "text/html": [
       "<div>\n",
       "<style scoped>\n",
       "    .dataframe tbody tr th:only-of-type {\n",
       "        vertical-align: middle;\n",
       "    }\n",
       "\n",
       "    .dataframe tbody tr th {\n",
       "        vertical-align: top;\n",
       "    }\n",
       "\n",
       "    .dataframe thead tr th {\n",
       "        text-align: left;\n",
       "    }\n",
       "\n",
       "    .dataframe thead tr:last-of-type th {\n",
       "        text-align: right;\n",
       "    }\n",
       "</style>\n",
       "<table border=\"1\" class=\"dataframe\">\n",
       "  <thead>\n",
       "    <tr>\n",
       "      <th></th>\n",
       "      <th colspan=\"6\" halign=\"left\">a</th>\n",
       "      <th colspan=\"2\" halign=\"left\">aa</th>\n",
       "    </tr>\n",
       "    <tr>\n",
       "      <th></th>\n",
       "      <th>date</th>\n",
       "      <th>open</th>\n",
       "      <th>high</th>\n",
       "      <th>low_price</th>\n",
       "      <th>close</th>\n",
       "      <th>volume</th>\n",
       "      <th>date</th>\n",
       "      <th>open</th>\n",
       "    </tr>\n",
       "    <tr>\n",
       "      <th>date</th>\n",
       "      <th></th>\n",
       "      <th></th>\n",
       "      <th></th>\n",
       "      <th></th>\n",
       "      <th></th>\n",
       "      <th></th>\n",
       "      <th></th>\n",
       "      <th></th>\n",
       "    </tr>\n",
       "  </thead>\n",
       "  <tbody>\n",
       "    <tr>\n",
       "      <th>1999-11-18</th>\n",
       "      <td>1999-11-18</td>\n",
       "      <td>42.2076</td>\n",
       "      <td>46.3820</td>\n",
       "      <td>37.4581</td>\n",
       "      <td>39.1928</td>\n",
       "      <td>4.398181e+07</td>\n",
       "      <td>1999-11-18</td>\n",
       "      <td>24.5183</td>\n",
       "    </tr>\n",
       "    <tr>\n",
       "      <th>1999-11-19</th>\n",
       "      <td>1999-11-19</td>\n",
       "      <td>39.8329</td>\n",
       "      <td>39.8885</td>\n",
       "      <td>36.9293</td>\n",
       "      <td>37.6251</td>\n",
       "      <td>1.139020e+07</td>\n",
       "      <td>1999-11-19</td>\n",
       "      <td>24.5647</td>\n",
       "    </tr>\n",
       "    <tr>\n",
       "      <th>1999-11-22</th>\n",
       "      <td>1999-11-22</td>\n",
       "      <td>38.3208</td>\n",
       "      <td>40.0091</td>\n",
       "      <td>37.1613</td>\n",
       "      <td>39.9442</td>\n",
       "      <td>4.654716e+06</td>\n",
       "      <td>1999-11-22</td>\n",
       "      <td>24.6846</td>\n",
       "    </tr>\n",
       "    <tr>\n",
       "      <th>1999-11-23</th>\n",
       "      <td>1999-11-23</td>\n",
       "      <td>39.4247</td>\n",
       "      <td>40.4729</td>\n",
       "      <td>37.3375</td>\n",
       "      <td>37.5138</td>\n",
       "      <td>4.268903e+06</td>\n",
       "      <td>1999-11-23</td>\n",
       "      <td>25.0018</td>\n",
       "    </tr>\n",
       "    <tr>\n",
       "      <th>1999-11-24</th>\n",
       "      <td>1999-11-24</td>\n",
       "      <td>37.2262</td>\n",
       "      <td>38.9052</td>\n",
       "      <td>37.1056</td>\n",
       "      <td>38.0889</td>\n",
       "      <td>3.602367e+06</td>\n",
       "      <td>1999-11-24</td>\n",
       "      <td>25.0482</td>\n",
       "    </tr>\n",
       "  </tbody>\n",
       "</table>\n",
       "</div>"
      ],
      "text/plain": [
       "                    a                                                     \\\n",
       "                 date     open     high low_price    close        volume   \n",
       "date                                                                       \n",
       "1999-11-18 1999-11-18  42.2076  46.3820   37.4581  39.1928  4.398181e+07   \n",
       "1999-11-19 1999-11-19  39.8329  39.8885   36.9293  37.6251  1.139020e+07   \n",
       "1999-11-22 1999-11-22  38.3208  40.0091   37.1613  39.9442  4.654716e+06   \n",
       "1999-11-23 1999-11-23  39.4247  40.4729   37.3375  37.5138  4.268903e+06   \n",
       "1999-11-24 1999-11-24  37.2262  38.9052   37.1056  38.0889  3.602367e+06   \n",
       "\n",
       "                   aa           \n",
       "                 date     open  \n",
       "date                            \n",
       "1999-11-18 1999-11-18  24.5183  \n",
       "1999-11-19 1999-11-19  24.5647  \n",
       "1999-11-22 1999-11-22  24.6846  \n",
       "1999-11-23 1999-11-23  25.0018  \n",
       "1999-11-24 1999-11-24  25.0482  "
      ]
     },
     "execution_count": 92,
     "metadata": {},
     "output_type": "execute_result"
    }
   ],
   "source": [
    "all_stocks.iloc[:5, :8]"
   ]
  },
  {
   "cell_type": "code",
   "execution_count": 93,
   "metadata": {},
   "outputs": [
    {
     "data": {
      "text/html": [
       "<div>\n",
       "<style scoped>\n",
       "    .dataframe tbody tr th:only-of-type {\n",
       "        vertical-align: middle;\n",
       "    }\n",
       "\n",
       "    .dataframe tbody tr th {\n",
       "        vertical-align: top;\n",
       "    }\n",
       "\n",
       "    .dataframe thead th {\n",
       "        text-align: right;\n",
       "    }\n",
       "</style>\n",
       "<table border=\"1\" class=\"dataframe\">\n",
       "  <thead>\n",
       "    <tr style=\"text-align: right;\">\n",
       "      <th></th>\n",
       "      <th>date</th>\n",
       "      <th>open</th>\n",
       "      <th>high</th>\n",
       "      <th>low_price</th>\n",
       "      <th>close</th>\n",
       "      <th>volume</th>\n",
       "    </tr>\n",
       "    <tr>\n",
       "      <th>date</th>\n",
       "      <th></th>\n",
       "      <th></th>\n",
       "      <th></th>\n",
       "      <th></th>\n",
       "      <th></th>\n",
       "      <th></th>\n",
       "    </tr>\n",
       "  </thead>\n",
       "  <tbody>\n",
       "    <tr>\n",
       "      <th>1999-11-18</th>\n",
       "      <td>1999-11-18</td>\n",
       "      <td>42.2076</td>\n",
       "      <td>46.3820</td>\n",
       "      <td>37.4581</td>\n",
       "      <td>39.1928</td>\n",
       "      <td>4.398181e+07</td>\n",
       "    </tr>\n",
       "    <tr>\n",
       "      <th>1999-11-19</th>\n",
       "      <td>1999-11-19</td>\n",
       "      <td>39.8329</td>\n",
       "      <td>39.8885</td>\n",
       "      <td>36.9293</td>\n",
       "      <td>37.6251</td>\n",
       "      <td>1.139020e+07</td>\n",
       "    </tr>\n",
       "    <tr>\n",
       "      <th>1999-11-22</th>\n",
       "      <td>1999-11-22</td>\n",
       "      <td>38.3208</td>\n",
       "      <td>40.0091</td>\n",
       "      <td>37.1613</td>\n",
       "      <td>39.9442</td>\n",
       "      <td>4.654716e+06</td>\n",
       "    </tr>\n",
       "    <tr>\n",
       "      <th>1999-11-23</th>\n",
       "      <td>1999-11-23</td>\n",
       "      <td>39.4247</td>\n",
       "      <td>40.4729</td>\n",
       "      <td>37.3375</td>\n",
       "      <td>37.5138</td>\n",
       "      <td>4.268903e+06</td>\n",
       "    </tr>\n",
       "    <tr>\n",
       "      <th>1999-11-24</th>\n",
       "      <td>1999-11-24</td>\n",
       "      <td>37.2262</td>\n",
       "      <td>38.9052</td>\n",
       "      <td>37.1056</td>\n",
       "      <td>38.0889</td>\n",
       "      <td>3.602367e+06</td>\n",
       "    </tr>\n",
       "  </tbody>\n",
       "</table>\n",
       "</div>"
      ],
      "text/plain": [
       "                 date     open     high  low_price    close        volume\n",
       "date                                                                     \n",
       "1999-11-18 1999-11-18  42.2076  46.3820    37.4581  39.1928  4.398181e+07\n",
       "1999-11-19 1999-11-19  39.8329  39.8885    36.9293  37.6251  1.139020e+07\n",
       "1999-11-22 1999-11-22  38.3208  40.0091    37.1613  39.9442  4.654716e+06\n",
       "1999-11-23 1999-11-23  39.4247  40.4729    37.3375  37.5138  4.268903e+06\n",
       "1999-11-24 1999-11-24  37.2262  38.9052    37.1056  38.0889  3.602367e+06"
      ]
     },
     "execution_count": 93,
     "metadata": {},
     "output_type": "execute_result"
    }
   ],
   "source": [
    "all_stocks[\"a\"].head()"
   ]
  },
  {
   "cell_type": "markdown",
   "metadata": {},
   "source": [
    "### `close`"
   ]
  },
  {
   "cell_type": "code",
   "execution_count": 94,
   "metadata": {
    "scrolled": false
   },
   "outputs": [
    {
     "data": {
      "text/plain": [
       "date\n",
       "1999-11-18    39.1928\n",
       "1999-11-19    37.6251\n",
       "1999-11-22    39.9442\n",
       "1999-11-23    37.5138\n",
       "1999-11-24    38.0889\n",
       "Name: close, dtype: float64"
      ]
     },
     "execution_count": 94,
     "metadata": {},
     "output_type": "execute_result"
    }
   ],
   "source": [
    "all_stocks[\"a\"][\"close\"].head()"
   ]
  },
  {
   "cell_type": "code",
   "execution_count": 95,
   "metadata": {},
   "outputs": [],
   "source": [
    "tickers = all_stocks.columns.levels[0]"
   ]
  },
  {
   "cell_type": "code",
   "execution_count": 96,
   "metadata": {
    "scrolled": true
   },
   "outputs": [
    {
     "data": {
      "text/plain": [
       "Index(['a', 'aa', 'aapl', 'abbv', 'abc'], dtype='object')"
      ]
     },
     "execution_count": 96,
     "metadata": {},
     "output_type": "execute_result"
    }
   ],
   "source": [
    "tickers[:5]"
   ]
  },
  {
   "cell_type": "code",
   "execution_count": 97,
   "metadata": {},
   "outputs": [],
   "source": [
    "_all_close_list = [all_stocks[tick].close for tick in tickers]"
   ]
  },
  {
   "cell_type": "code",
   "execution_count": 98,
   "metadata": {},
   "outputs": [
    {
     "data": {
      "text/plain": [
       "date\n",
       "1999-11-18    39.1928\n",
       "1999-11-19    37.6251\n",
       "1999-11-22    39.9442\n",
       "1999-11-23    37.5138\n",
       "1999-11-24    38.0889\n",
       "Name: close, dtype: float64"
      ]
     },
     "execution_count": 98,
     "metadata": {},
     "output_type": "execute_result"
    }
   ],
   "source": [
    "_all_close_list[0].head()"
   ]
  },
  {
   "cell_type": "code",
   "execution_count": 99,
   "metadata": {},
   "outputs": [],
   "source": [
    "_all_close_list = [srs.rename(tickers[i])\n",
    "                  for i, srs in enumerate(_all_close_list)]"
   ]
  },
  {
   "cell_type": "code",
   "execution_count": 100,
   "metadata": {
    "scrolled": true
   },
   "outputs": [],
   "source": [
    "all_stocks_close = _all_close_list[0].to_frame().join(_all_close_list[1:])"
   ]
  },
  {
   "cell_type": "code",
   "execution_count": 101,
   "metadata": {},
   "outputs": [
    {
     "data": {
      "text/html": [
       "<div>\n",
       "<style scoped>\n",
       "    .dataframe tbody tr th:only-of-type {\n",
       "        vertical-align: middle;\n",
       "    }\n",
       "\n",
       "    .dataframe tbody tr th {\n",
       "        vertical-align: top;\n",
       "    }\n",
       "\n",
       "    .dataframe thead th {\n",
       "        text-align: right;\n",
       "    }\n",
       "</style>\n",
       "<table border=\"1\" class=\"dataframe\">\n",
       "  <thead>\n",
       "    <tr style=\"text-align: right;\">\n",
       "      <th></th>\n",
       "      <th>a</th>\n",
       "      <th>aa</th>\n",
       "      <th>aapl</th>\n",
       "      <th>abbv</th>\n",
       "      <th>abc</th>\n",
       "      <th>abt</th>\n",
       "      <th>ace</th>\n",
       "      <th>acn</th>\n",
       "    </tr>\n",
       "    <tr>\n",
       "      <th>date</th>\n",
       "      <th></th>\n",
       "      <th></th>\n",
       "      <th></th>\n",
       "      <th></th>\n",
       "      <th></th>\n",
       "      <th></th>\n",
       "      <th></th>\n",
       "      <th></th>\n",
       "    </tr>\n",
       "  </thead>\n",
       "  <tbody>\n",
       "    <tr>\n",
       "      <th>1999-11-18</th>\n",
       "      <td>39.1928</td>\n",
       "      <td>24.2514</td>\n",
       "      <td>21.7924</td>\n",
       "      <td>NaN</td>\n",
       "      <td>3.09830</td>\n",
       "      <td>11.9023</td>\n",
       "      <td>14.3008</td>\n",
       "      <td>NaN</td>\n",
       "    </tr>\n",
       "    <tr>\n",
       "      <th>1999-11-19</th>\n",
       "      <td>37.6251</td>\n",
       "      <td>24.6846</td>\n",
       "      <td>22.4756</td>\n",
       "      <td>NaN</td>\n",
       "      <td>3.05589</td>\n",
       "      <td>11.8612</td>\n",
       "      <td>13.9294</td>\n",
       "      <td>NaN</td>\n",
       "    </tr>\n",
       "    <tr>\n",
       "      <th>1999-11-22</th>\n",
       "      <td>39.9442</td>\n",
       "      <td>25.0250</td>\n",
       "      <td>22.0185</td>\n",
       "      <td>NaN</td>\n",
       "      <td>2.95767</td>\n",
       "      <td>12.2375</td>\n",
       "      <td>14.0259</td>\n",
       "      <td>NaN</td>\n",
       "    </tr>\n",
       "    <tr>\n",
       "      <th>1999-11-23</th>\n",
       "      <td>37.5138</td>\n",
       "      <td>25.2185</td>\n",
       "      <td>22.6264</td>\n",
       "      <td>NaN</td>\n",
       "      <td>2.74784</td>\n",
       "      <td>12.0383</td>\n",
       "      <td>13.9294</td>\n",
       "      <td>NaN</td>\n",
       "    </tr>\n",
       "    <tr>\n",
       "      <th>1999-11-24</th>\n",
       "      <td>38.0889</td>\n",
       "      <td>24.9283</td>\n",
       "      <td>23.0373</td>\n",
       "      <td>NaN</td>\n",
       "      <td>2.74784</td>\n",
       "      <td>12.1964</td>\n",
       "      <td>13.3722</td>\n",
       "      <td>NaN</td>\n",
       "    </tr>\n",
       "  </tbody>\n",
       "</table>\n",
       "</div>"
      ],
      "text/plain": [
       "                  a       aa     aapl  abbv      abc      abt      ace  acn\n",
       "date                                                                       \n",
       "1999-11-18  39.1928  24.2514  21.7924   NaN  3.09830  11.9023  14.3008  NaN\n",
       "1999-11-19  37.6251  24.6846  22.4756   NaN  3.05589  11.8612  13.9294  NaN\n",
       "1999-11-22  39.9442  25.0250  22.0185   NaN  2.95767  12.2375  14.0259  NaN\n",
       "1999-11-23  37.5138  25.2185  22.6264   NaN  2.74784  12.0383  13.9294  NaN\n",
       "1999-11-24  38.0889  24.9283  23.0373   NaN  2.74784  12.1964  13.3722  NaN"
      ]
     },
     "execution_count": 101,
     "metadata": {},
     "output_type": "execute_result"
    }
   ],
   "source": [
    "all_stocks_close.iloc[:5, :8]"
   ]
  },
  {
   "cell_type": "code",
   "execution_count": 102,
   "metadata": {},
   "outputs": [],
   "source": [
    "all_stocks_close = all_stocks_close / all_stocks_close.shift(1)"
   ]
  },
  {
   "cell_type": "markdown",
   "metadata": {},
   "source": [
    "### Correlation"
   ]
  },
  {
   "cell_type": "code",
   "execution_count": 103,
   "metadata": {},
   "outputs": [],
   "source": [
    "corrs = all_stocks_close.corr()"
   ]
  },
  {
   "cell_type": "code",
   "execution_count": 104,
   "metadata": {
    "scrolled": true
   },
   "outputs": [
    {
     "data": {
      "text/html": [
       "<div>\n",
       "<style scoped>\n",
       "    .dataframe tbody tr th:only-of-type {\n",
       "        vertical-align: middle;\n",
       "    }\n",
       "\n",
       "    .dataframe tbody tr th {\n",
       "        vertical-align: top;\n",
       "    }\n",
       "\n",
       "    .dataframe thead th {\n",
       "        text-align: right;\n",
       "    }\n",
       "</style>\n",
       "<table border=\"1\" class=\"dataframe\">\n",
       "  <thead>\n",
       "    <tr style=\"text-align: right;\">\n",
       "      <th></th>\n",
       "      <th>a</th>\n",
       "      <th>aa</th>\n",
       "      <th>aapl</th>\n",
       "      <th>abbv</th>\n",
       "      <th>abc</th>\n",
       "    </tr>\n",
       "  </thead>\n",
       "  <tbody>\n",
       "    <tr>\n",
       "      <th>a</th>\n",
       "      <td>1.000000</td>\n",
       "      <td>0.383146</td>\n",
       "      <td>0.361200</td>\n",
       "      <td>0.164908</td>\n",
       "      <td>0.169508</td>\n",
       "    </tr>\n",
       "    <tr>\n",
       "      <th>aa</th>\n",
       "      <td>0.383146</td>\n",
       "      <td>1.000000</td>\n",
       "      <td>0.283109</td>\n",
       "      <td>0.067920</td>\n",
       "      <td>0.254100</td>\n",
       "    </tr>\n",
       "    <tr>\n",
       "      <th>aapl</th>\n",
       "      <td>0.361200</td>\n",
       "      <td>0.283109</td>\n",
       "      <td>1.000000</td>\n",
       "      <td>0.032483</td>\n",
       "      <td>0.142794</td>\n",
       "    </tr>\n",
       "    <tr>\n",
       "      <th>abbv</th>\n",
       "      <td>0.164908</td>\n",
       "      <td>0.067920</td>\n",
       "      <td>0.032483</td>\n",
       "      <td>1.000000</td>\n",
       "      <td>0.282846</td>\n",
       "    </tr>\n",
       "    <tr>\n",
       "      <th>abc</th>\n",
       "      <td>0.169508</td>\n",
       "      <td>0.254100</td>\n",
       "      <td>0.142794</td>\n",
       "      <td>0.282846</td>\n",
       "      <td>1.000000</td>\n",
       "    </tr>\n",
       "  </tbody>\n",
       "</table>\n",
       "</div>"
      ],
      "text/plain": [
       "             a        aa      aapl      abbv       abc\n",
       "a     1.000000  0.383146  0.361200  0.164908  0.169508\n",
       "aa    0.383146  1.000000  0.283109  0.067920  0.254100\n",
       "aapl  0.361200  0.283109  1.000000  0.032483  0.142794\n",
       "abbv  0.164908  0.067920  0.032483  1.000000  0.282846\n",
       "abc   0.169508  0.254100  0.142794  0.282846  1.000000"
      ]
     },
     "execution_count": 104,
     "metadata": {},
     "output_type": "execute_result"
    }
   ],
   "source": [
    "corrs.iloc[:5, :5]"
   ]
  },
  {
   "cell_type": "code",
   "execution_count": 109,
   "metadata": {},
   "outputs": [],
   "source": [
    "corrs_modified = corrs.replace(1, np.nan)"
   ]
  },
  {
   "cell_type": "code",
   "execution_count": 110,
   "metadata": {
    "scrolled": true
   },
   "outputs": [
    {
     "data": {
      "text/html": [
       "<div>\n",
       "<style scoped>\n",
       "    .dataframe tbody tr th:only-of-type {\n",
       "        vertical-align: middle;\n",
       "    }\n",
       "\n",
       "    .dataframe tbody tr th {\n",
       "        vertical-align: top;\n",
       "    }\n",
       "\n",
       "    .dataframe thead th {\n",
       "        text-align: right;\n",
       "    }\n",
       "</style>\n",
       "<table border=\"1\" class=\"dataframe\">\n",
       "  <thead>\n",
       "    <tr style=\"text-align: right;\">\n",
       "      <th></th>\n",
       "      <th>a</th>\n",
       "      <th>aa</th>\n",
       "      <th>aapl</th>\n",
       "      <th>abbv</th>\n",
       "      <th>abc</th>\n",
       "    </tr>\n",
       "  </thead>\n",
       "  <tbody>\n",
       "    <tr>\n",
       "      <th>a</th>\n",
       "      <td>NaN</td>\n",
       "      <td>0.383146</td>\n",
       "      <td>0.361200</td>\n",
       "      <td>0.164908</td>\n",
       "      <td>0.169508</td>\n",
       "    </tr>\n",
       "    <tr>\n",
       "      <th>aa</th>\n",
       "      <td>0.383146</td>\n",
       "      <td>NaN</td>\n",
       "      <td>0.283109</td>\n",
       "      <td>0.067920</td>\n",
       "      <td>0.254100</td>\n",
       "    </tr>\n",
       "    <tr>\n",
       "      <th>aapl</th>\n",
       "      <td>0.361200</td>\n",
       "      <td>0.283109</td>\n",
       "      <td>NaN</td>\n",
       "      <td>0.032483</td>\n",
       "      <td>0.142794</td>\n",
       "    </tr>\n",
       "    <tr>\n",
       "      <th>abbv</th>\n",
       "      <td>0.164908</td>\n",
       "      <td>0.067920</td>\n",
       "      <td>0.032483</td>\n",
       "      <td>NaN</td>\n",
       "      <td>0.282846</td>\n",
       "    </tr>\n",
       "    <tr>\n",
       "      <th>abc</th>\n",
       "      <td>0.169508</td>\n",
       "      <td>0.254100</td>\n",
       "      <td>0.142794</td>\n",
       "      <td>0.282846</td>\n",
       "      <td>NaN</td>\n",
       "    </tr>\n",
       "  </tbody>\n",
       "</table>\n",
       "</div>"
      ],
      "text/plain": [
       "             a        aa      aapl      abbv       abc\n",
       "a          NaN  0.383146  0.361200  0.164908  0.169508\n",
       "aa    0.383146       NaN  0.283109  0.067920  0.254100\n",
       "aapl  0.361200  0.283109       NaN  0.032483  0.142794\n",
       "abbv  0.164908  0.067920  0.032483       NaN  0.282846\n",
       "abc   0.169508  0.254100  0.142794  0.282846       NaN"
      ]
     },
     "execution_count": 110,
     "metadata": {},
     "output_type": "execute_result"
    }
   ],
   "source": [
    "corrs_modified.iloc[:5, :5]"
   ]
  },
  {
   "cell_type": "code",
   "execution_count": 111,
   "metadata": {
    "scrolled": true
   },
   "outputs": [
    {
     "data": {
      "text/plain": [
       "eqr    0.884192\n",
       "avb    0.884192\n",
       "spg    0.883757\n",
       "bxp    0.883757\n",
       "vno    0.883234\n",
       "dtype: float64"
      ]
     },
     "execution_count": 111,
     "metadata": {},
     "output_type": "execute_result"
    }
   ],
   "source": [
    "corrs_modified.max().sort_values(ascending=False)[:5]"
   ]
  },
  {
   "cell_type": "code",
   "execution_count": 112,
   "metadata": {
    "scrolled": true
   },
   "outputs": [
    {
     "data": {
      "text/plain": [
       "wyn    0.178355\n",
       "pfg    0.175845\n",
       "dfs    0.175066\n",
       "dd     0.168540\n",
       "hst    0.159443\n",
       "dtype: float64"
      ]
     },
     "execution_count": 112,
     "metadata": {},
     "output_type": "execute_result"
    }
   ],
   "source": [
    "corrs_modified.min().sort_values(ascending=False)[:5]"
   ]
  },
  {
   "cell_type": "markdown",
   "metadata": {},
   "source": [
    "### Problem\n",
    "\n",
    "Create a _price index_ that provides insight into the daily tendencies of our 500 stocks. We are going to do this as follows: calculate, for each day, _the mean spread between open and closing prices across all 500 stocks_. \n",
    "\n",
    "Next, vizualize your results. Plot on the same axes a the _volatility of the open and closing price spreads_.\n",
    "\n",
    "Additionally, find\n",
    "- the 10 days with the highest average open-close spreads\n",
    "- the 10 days with the highest volatility in their open-close spreads"
   ]
  },
  {
   "cell_type": "code",
   "execution_count": null,
   "metadata": {},
   "outputs": [],
   "source": []
  }
 ],
 "metadata": {
  "kernelspec": {
   "display_name": "Python 3",
   "language": "python",
   "name": "python3"
  },
  "language_info": {
   "codemirror_mode": {
    "name": "ipython",
    "version": 3
   },
   "file_extension": ".py",
   "mimetype": "text/x-python",
   "name": "python",
   "nbconvert_exporter": "python",
   "pygments_lexer": "ipython3",
   "version": "3.6.7"
  }
 },
 "nbformat": 4,
 "nbformat_minor": 2
}
